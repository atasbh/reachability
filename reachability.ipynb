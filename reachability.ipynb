{
 "cells": [
  {
   "cell_type": "code",
   "execution_count": 2,
   "metadata": {},
   "outputs": [
    {
     "name": "stdout",
     "output_type": "stream",
     "text": [
      "4 3 1 2 3 2 4 3 1 4\n",
      "1\n"
     ]
    }
   ],
   "source": [
    "#Uses python3\n",
    "\n",
    "import sys\n",
    "\n",
    "def reach(adj, x, y):\n",
    "    matrix = [[0 for j in range(len(adj))] for i in range(len(adj))]\n",
    "    for i in range(len(adj)):\n",
    "            matrix[i][i] = 1\n",
    "    for i in range(len(adj)):\n",
    "        for j in adj[i]:\n",
    "            matrix[i][j] = 1\n",
    "            matrix[j][i] = 1\n",
    "    for k in range(len(adj)):            \n",
    "        for i in range(len(adj)):\n",
    "            for j in range(len(adj)):\n",
    "                matrix[i][j] = (matrix[i][j] or (matrix[i][k] and matrix[k][j]))\n",
    "    if matrix[x][y] == 1:\n",
    "        return 1\n",
    "    else:\n",
    "        return 0\n",
    "\n",
    "if __name__ == '__main__':\n",
    "    input = sys.stdin.read()\n",
    "    data = list(map(int, input.split()))\n",
    "    n, m = data[0:2]\n",
    "    data = data[2:]\n",
    "    edges = list(zip(data[0:(2 * m):2], data[1:(2 * m):2]))\n",
    "    x, y = data[2 * m:]\n",
    "    adj = [[] for _ in range(n)]\n",
    "    x, y = x - 1, y - 1\n",
    "    for (a, b) in edges:\n",
    "        adj[a - 1].append(b - 1)\n",
    "        adj[b - 1].append(a - 1)\n",
    "    print(reach(adj, x, y))\n"
   ]
  }
 ],
 "metadata": {
  "kernelspec": {
   "display_name": "Python 3 (ipykernel)",
   "language": "python",
   "name": "python3"
  },
  "language_info": {
   "codemirror_mode": {
    "name": "ipython",
    "version": 3
   },
   "file_extension": ".py",
   "mimetype": "text/x-python",
   "name": "python",
   "nbconvert_exporter": "python",
   "pygments_lexer": "ipython3",
   "version": "3.9.0"
  }
 },
 "nbformat": 4,
 "nbformat_minor": 4
}
